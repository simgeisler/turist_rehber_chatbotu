{
 "cells": [
  {
   "cell_type": "markdown",
   "id": "6cf453b6",
   "metadata": {},
   "source": [
    "Excel Dosyasını Okuma"
   ]
  },
  {
   "cell_type": "code",
   "execution_count": 2,
   "id": "7014ff86",
   "metadata": {},
   "outputs": [],
   "source": [
    "\n",
    "import pandas as pd\n",
    "\n",
    "file_path = \"intents.xlsx\"  \n",
    "df = pd.read_excel(file_path)"
   ]
  },
  {
   "cell_type": "markdown",
   "id": "8dc4d1f8",
   "metadata": {},
   "source": [
    "Her Satırı Document Nesnesine Dönüştürme"
   ]
  },
  {
   "cell_type": "code",
   "execution_count": 3,
   "id": "f47532c8",
   "metadata": {},
   "outputs": [
    {
     "name": "stdout",
     "output_type": "stream",
     "text": [
      "Toplam belge: 1000\n"
     ]
    }
   ],
   "source": [
    "from langchain_core.documents import Document\n",
    "\n",
    "docs = []\n",
    "for idx, row in df.iterrows():\n",
    "    content = row[\"kullanici_soru\"]\n",
    "    metadata = {\"intent\": row[\"intent_basligi\"], \"row_id\": idx}\n",
    "    doc = Document(page_content=content, metadata=metadata)\n",
    "    docs.append(doc)\n",
    "\n",
    "print(\"Toplam belge:\", len(docs))"
   ]
  },
  {
   "cell_type": "markdown",
   "id": "b053df66",
   "metadata": {},
   "source": [
    "Veriyi Test ve Eğitim Verisi Olarak Bölme"
   ]
  },
  {
   "cell_type": "code",
   "execution_count": 4,
   "id": "4bc3e40f",
   "metadata": {},
   "outputs": [
    {
     "name": "stdout",
     "output_type": "stream",
     "text": [
      "Eğitim verisi uzunluğu: 800\n",
      "Test verisi uzunluğu: 200\n"
     ]
    }
   ],
   "source": [
    "from sklearn.model_selection import train_test_split\n",
    "\n",
    "# Rastgele eğitim ve test verisi olarak bölme\n",
    "train_docs, test_docs = train_test_split(docs, test_size=0.2, random_state=42)\n",
    "\n",
    "# Eğitim ve test veri setlerinin uzunluğunu kontrol etme\n",
    "print(\"Eğitim verisi uzunluğu:\", len(train_docs))\n",
    "print(\"Test verisi uzunluğu:\", len(test_docs))"
   ]
  },
  {
   "cell_type": "code",
   "execution_count": 5,
   "id": "a979a9de",
   "metadata": {},
   "outputs": [
    {
     "data": {
      "text/plain": [
       "Document(metadata={'intent': 'restoran_kafe', 'row_id': 2}, page_content='Deniz ürünleriyle ünlü restoranlar nerede bulunur?')"
      ]
     },
     "execution_count": 5,
     "metadata": {},
     "output_type": "execute_result"
    }
   ],
   "source": [
    "train_docs[25]"
   ]
  },
  {
   "cell_type": "markdown",
   "id": "8575bb9e",
   "metadata": {},
   "source": [
    "OpenAI Generative AI Embeddings'i kullanarak Embedding Oluşturma İşlemi"
   ]
  },
  {
   "cell_type": "code",
   "execution_count": 6,
   "id": "0ca043b0",
   "metadata": {},
   "outputs": [],
   "source": [
    "from langchain_community.vectorstores import Chroma\n",
    "from dotenv import load_dotenv\n",
    "from langchain.embeddings import OpenAIEmbeddings"
   ]
  },
  {
   "cell_type": "code",
   "execution_count": 7,
   "id": "9d710230",
   "metadata": {},
   "outputs": [
    {
     "data": {
      "text/plain": [
       "True"
      ]
     },
     "execution_count": 7,
     "metadata": {},
     "output_type": "execute_result"
    }
   ],
   "source": [
    "load_dotenv()"
   ]
  },
  {
   "cell_type": "code",
   "execution_count": 8,
   "id": "6f2e4880",
   "metadata": {},
   "outputs": [
    {
     "name": "stderr",
     "output_type": "stream",
     "text": [
      "C:\\Users\\CASPER\\AppData\\Local\\Temp\\ipykernel_16652\\2421187937.py:1: LangChainDeprecationWarning: The class `OpenAIEmbeddings` was deprecated in LangChain 0.0.9 and will be removed in 1.0. An updated version of the class exists in the :class:`~langchain-openai package and should be used instead. To use it run `pip install -U :class:`~langchain-openai` and import as `from :class:`~langchain_openai import OpenAIEmbeddings``.\n",
      "  embeddings = OpenAIEmbeddings(model=\"text-embedding-3-large\")\n"
     ]
    }
   ],
   "source": [
    "embeddings = OpenAIEmbeddings(model=\"text-embedding-3-large\")"
   ]
  },
  {
   "cell_type": "markdown",
   "id": "3ef8f000",
   "metadata": {},
   "source": [
    "ChromaDB Üzerine Kayıt İşlemi"
   ]
  },
  {
   "cell_type": "code",
   "execution_count": 9,
   "id": "deac76dc",
   "metadata": {},
   "outputs": [],
   "source": [
    "vectorstore = Chroma.from_documents(documents=train_docs, embedding=embeddings,persist_directory=\"./chroma_db\")"
   ]
  },
  {
   "cell_type": "code",
   "execution_count": 10,
   "id": "6a348ee1",
   "metadata": {},
   "outputs": [],
   "source": [
    "retriever = vectorstore.as_retriever(\n",
    "    search_type=\"similarity\", search_kwargs={\"k\":4}\n",
    ")"
   ]
  },
  {
   "cell_type": "code",
   "execution_count": 11,
   "id": "3b7bba07",
   "metadata": {},
   "outputs": [],
   "source": [
    "retieved_docs = retriever.invoke(\"merhaba\")"
   ]
  },
  {
   "cell_type": "code",
   "execution_count": 12,
   "id": "5d7cb208",
   "metadata": {},
   "outputs": [
    {
     "data": {
      "text/plain": [
       "4"
      ]
     },
     "execution_count": 12,
     "metadata": {},
     "output_type": "execute_result"
    }
   ],
   "source": [
    "len(retieved_docs)"
   ]
  },
  {
   "cell_type": "code",
   "execution_count": 13,
   "id": "0ed7acd7",
   "metadata": {},
   "outputs": [
    {
     "name": "stdout",
     "output_type": "stream",
     "text": [
      "Merhaba  \n"
     ]
    }
   ],
   "source": [
    "print(retieved_docs[3].page_content)"
   ]
  },
  {
   "cell_type": "markdown",
   "id": "f95b301c",
   "metadata": {},
   "source": [
    "OpenAI API Yapısını Kullanarak LLM Tetikleme İşlemleri"
   ]
  },
  {
   "cell_type": "code",
   "execution_count": 14,
   "id": "fab742cd",
   "metadata": {},
   "outputs": [],
   "source": [
    "from langchain_openai import ChatOpenAI\n",
    "\n",
    "llm = ChatOpenAI(\n",
    "    model=\"gpt-4o\",\n",
    "    temperature=0.3,\n",
    "    max_tokens=500\n",
    ")"
   ]
  },
  {
   "cell_type": "code",
   "execution_count": 15,
   "id": "bb736038",
   "metadata": {},
   "outputs": [],
   "source": [
    "from langchain_core.prompts import ChatPromptTemplate\n",
    "from langchain.chains.combine_documents import create_stuff_documents_chain\n",
    "from langchain.chains import create_retrieval_chain"
   ]
  },
  {
   "cell_type": "code",
   "execution_count": null,
   "id": "f1747616",
   "metadata": {},
   "outputs": [],
   "source": [
    "system_prompt = (\n",
    "    \"Sen, turistlere rehberlik eden bir chatbot'sun.\"\n",
    "    \"Aşağıda verilen bağlamlara göre en uygun cevabı ver.\"\n",
    "    \"Yanıtlarını mümkün olduğunca kısa ve net tut, üç cümleyi geçmemeye çalış. \"\n",
    "    \"Eğer cevabı bilmiyorsan 'Bilmiyorum' diye belirt.\"\n",
    "    \"\\n\\n{context}\"\n",
    ")"
   ]
  },
  {
   "cell_type": "code",
   "execution_count": 17,
   "id": "cdf88436",
   "metadata": {},
   "outputs": [],
   "source": [
    "prompt = ChatPromptTemplate.from_messages(\n",
    "    [\n",
    "        (\"system\",system_prompt),\n",
    "        (\"human\",\"{input}\")\n",
    "    ]\n",
    ")"
   ]
  },
  {
   "cell_type": "markdown",
   "id": "2f9a87f1",
   "metadata": {},
   "source": [
    "Soru-Cevap Zinciri Oluşturma(LLM+PROMPT)"
   ]
  },
  {
   "cell_type": "code",
   "execution_count": 18,
   "id": "13a38830",
   "metadata": {},
   "outputs": [],
   "source": [
    "question_answer_chain = create_stuff_documents_chain(llm,prompt)"
   ]
  },
  {
   "cell_type": "markdown",
   "id": "ae54ca84",
   "metadata": {},
   "source": [
    "RAG Zinciri Oluşturma(RAG+LLM Entegrasyonun Gerçekleşmesi)"
   ]
  },
  {
   "cell_type": "code",
   "execution_count": 19,
   "id": "a41ed1ca",
   "metadata": {},
   "outputs": [],
   "source": [
    "rag_chain = create_retrieval_chain(retriever,question_answer_chain)"
   ]
  },
  {
   "cell_type": "markdown",
   "id": "a0c25126",
   "metadata": {},
   "source": [
    "Kullanıcı Sorgusunu Çalıştırarak Cevap Üretme İşlemi"
   ]
  },
  {
   "cell_type": "code",
   "execution_count": 20,
   "id": "cbb68e3e",
   "metadata": {},
   "outputs": [],
   "source": [
    "response = rag_chain.invoke({\"input\":\"Paris'te şehrin merkezine yakın otel önerir misin?\"})"
   ]
  },
  {
   "cell_type": "code",
   "execution_count": 21,
   "id": "a3525f9b",
   "metadata": {},
   "outputs": [
    {
     "name": "stdout",
     "output_type": "stream",
     "text": [
      "{'input': \"Paris'te şehrin merkezine yakın otel önerir misin?\", 'context': [Document(metadata={'intent': 'konaklama', 'row_id': 397}, page_content='Merkezi konumda otel önerisi?'), Document(metadata={'intent': 'konaklama', 'row_id': 397}, page_content='Merkezi konumda otel önerisi?'), Document(metadata={'intent': 'konaklama', 'row_id': 397}, page_content='Merkezi konumda otel önerisi?'), Document(metadata={'intent': 'konaklama', 'row_id': 397}, page_content='Merkezi konumda otel önerisi?')], 'answer': \"Hotel Le Meurice veya Hôtel de Crillon, Paris'in merkezine yakın lüks seçeneklerdir. Daha uygun fiyatlı bir seçenek için Hôtel du Louvre'u düşünebilirsiniz.\"}\n"
     ]
    }
   ],
   "source": [
    "print(response)"
   ]
  },
  {
   "cell_type": "markdown",
   "id": "5d7f2e34",
   "metadata": {},
   "source": [
    "PERFORMANS METRİKLERİ"
   ]
  },
  {
   "cell_type": "code",
   "execution_count": null,
   "id": "3a9b4a33",
   "metadata": {},
   "outputs": [
    {
     "name": "stdout",
     "output_type": "stream",
     "text": [
      "10 soru işlendi\n",
      "20 soru işlendi\n",
      "30 soru işlendi\n",
      "40 soru işlendi\n",
      "50 soru işlendi\n",
      "60 soru işlendi\n",
      "70 soru işlendi\n",
      "80 soru işlendi\n",
      "90 soru işlendi\n",
      "100 soru işlendi\n",
      "110 soru işlendi\n",
      "120 soru işlendi\n",
      "130 soru işlendi\n",
      "140 soru işlendi\n",
      "150 soru işlendi\n",
      "160 soru işlendi\n",
      "170 soru işlendi\n",
      "180 soru işlendi\n",
      "190 soru işlendi\n",
      "200 soru işlendi\n",
      "Doğruluk (Accuracy): 0.96\n",
      "                  precision    recall  f1-score   support\n",
      "\n",
      "     acil_yardim       0.93      1.00      0.96        13\n",
      "   doviz_bilgisi       1.00      0.96      0.98        25\n",
      "     etkinlikler       0.82      0.93      0.88        15\n",
      "gezilecek_yerler       0.96      0.81      0.88        27\n",
      "     hava_durumu       1.00      1.00      1.00        22\n",
      "       konaklama       1.00      0.95      0.98        21\n",
      "   restoran_kafe       1.00      1.00      1.00        20\n",
      "      selamlasma       1.00      1.00      1.00        11\n",
      "          ulasim       0.81      1.00      0.90        13\n",
      "       vedalasma       1.00      1.00      1.00        10\n",
      "vize_ve_belgeler       1.00      1.00      1.00        23\n",
      "\n",
      "        accuracy                           0.96       200\n",
      "       macro avg       0.96      0.97      0.96       200\n",
      "    weighted avg       0.96      0.96      0.96       200\n",
      "\n"
     ]
    }
   ],
   "source": [
    "import time\n",
    "from collections import Counter\n",
    "from sklearn.metrics import classification_report, accuracy_score\n",
    "\n",
    "def extract_predicted_intent(chatbot_response):\n",
    "    intents = [doc.metadata['intent'] for doc in chatbot_response['context']]\n",
    "    most_common_intent, _ = Counter(intents).most_common(1)[0]\n",
    "    return most_common_intent\n",
    "\n",
    "y_true = []\n",
    "y_pred = []\n",
    "\n",
    "for idx, doc in enumerate(test_docs):\n",
    "    question = doc.page_content\n",
    "    true_intent = doc.metadata['intent']\n",
    "    \n",
    "    chatbot_response = rag_chain.invoke({\"input\": question})\n",
    "    predicted_intent = extract_predicted_intent(chatbot_response)\n",
    "    \n",
    "    y_true.append(true_intent)\n",
    "    y_pred.append(predicted_intent)\n",
    "    \n",
    "    # Her çağrıdan sonra 5 saniye bekle\n",
    "    time.sleep(5)\n",
    "\n",
    "    if (idx + 1) % 10 == 0:\n",
    "        print(f\"{idx + 1} soru işlendi\")\n",
    "\n",
    "print(\"Doğruluk (Accuracy):\", accuracy_score(y_true, y_pred))\n",
    "print(classification_report(y_true, y_pred))"
   ]
  },
  {
   "cell_type": "code",
   "execution_count": 23,
   "id": "01c8bdfd",
   "metadata": {},
   "outputs": [
    {
     "name": "stdout",
     "output_type": "stream",
     "text": [
      "                  precision    recall  f1-score   support\n",
      "\n",
      "     acil_yardim       0.93      1.00      0.96        13\n",
      "   doviz_bilgisi       1.00      0.96      0.98        25\n",
      "     etkinlikler       0.82      0.93      0.88        15\n",
      "gezilecek_yerler       0.96      0.81      0.88        27\n",
      "     hava_durumu       1.00      1.00      1.00        22\n",
      "       konaklama       1.00      0.95      0.98        21\n",
      "   restoran_kafe       1.00      1.00      1.00        20\n",
      "      selamlasma       1.00      1.00      1.00        11\n",
      "          ulasim       0.81      1.00      0.90        13\n",
      "       vedalasma       1.00      1.00      1.00        10\n",
      "vize_ve_belgeler       1.00      1.00      1.00        23\n",
      "\n",
      "        accuracy                           0.96       200\n",
      "       macro avg       0.96      0.97      0.96       200\n",
      "    weighted avg       0.96      0.96      0.96       200\n",
      "\n",
      "Doğruluk (Accuracy): 0.96\n",
      "Kesinlik (Precision): 0.9640647835221046\n",
      "Duyarlılık (Recall): 0.96\n",
      "F1 Skoru (F1-Score): 0.9601814586436389\n"
     ]
    }
   ],
   "source": [
    "from sklearn.metrics import accuracy_score, precision_score, recall_score, f1_score, classification_report\n",
    "report = classification_report(y_true, y_pred, zero_division=0)  \n",
    "\n",
    "print(report)  \n",
    "\n",
    "\n",
    "print(\"Doğruluk (Accuracy):\", accuracy_score(y_true, y_pred))\n",
    "print(\"Kesinlik (Precision):\", precision_score(y_true, y_pred, average='weighted', zero_division=0))\n",
    "print(\"Duyarlılık (Recall):\", recall_score(y_true, y_pred, average='weighted', zero_division=0))\n",
    "print(\"F1 Skoru (F1-Score):\", f1_score(y_true, y_pred, average='weighted', zero_division=0))\n"
   ]
  },
  {
   "cell_type": "code",
   "execution_count": 24,
   "id": "5d7fe7c4",
   "metadata": {},
   "outputs": [
    {
     "data": {
      "image/png": "[encoded data removed]",
      "text/plain": [
       "<Figure size 640x480 with 2 Axes>"
      ]
     },
     "metadata": {},
     "output_type": "display_data"
    }
   ],
   "source": [
    "from sklearn.metrics import confusion_matrix\n",
    "import seaborn as sns\n",
    "import matplotlib.pyplot as plt\n",
    "\n",
    "cm = confusion_matrix(y_true, y_pred, labels=sorted(set(y_true)))\n",
    "sns.heatmap(cm, annot=True, fmt='d', xticklabels=sorted(set(y_true)), yticklabels=sorted(set(y_true)))\n",
    "plt.xlabel('Tahmin')\n",
    "plt.ylabel('Gerçek')\n",
    "plt.title('Intent Karışıklık Matrisi')\n",
    "plt.show()"
   ]
  }
 ],
 "metadata": {
  "kernelspec": {
   "display_name": "myenv2",
   "language": "python",
   "name": "python3"
  },
  "language_info": {
   "codemirror_mode": {
    "name": "ipython",
    "version": 3
   },
   "file_extension": ".py",
   "mimetype": "text/x-python",
   "name": "python",
   "nbconvert_exporter": "python",
   "pygments_lexer": "ipython3",
   "version": "3.9.21"
  }
 },
 "nbformat": 4,
 "nbformat_minor": 5
}
