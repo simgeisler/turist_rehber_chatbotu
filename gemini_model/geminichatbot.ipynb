{
 "cells": [
  {
   "cell_type": "markdown",
   "id": "1f810086",
   "metadata": {},
   "source": [
    "Excel Dosyasını Okuma"
   ]
  },
  {
   "cell_type": "code",
   "execution_count": 1,
   "id": "7014ff86",
   "metadata": {},
   "outputs": [],
   "source": [
    "import pandas as pd\n",
    "\n",
    "file_path = \"intents.xlsx\"  \n",
    "df = pd.read_excel(file_path)"
   ]
  },
  {
   "cell_type": "markdown",
   "id": "07199d0d",
   "metadata": {},
   "source": [
    "Her Satırı Document Nesnesine Dönüştürme"
   ]
  },
  {
   "cell_type": "code",
   "execution_count": 2,
   "id": "6460b363",
   "metadata": {},
   "outputs": [
    {
     "name": "stdout",
     "output_type": "stream",
     "text": [
      "Toplam belge: 1000\n"
     ]
    }
   ],
   "source": [
    "from langchain_core.documents import Document\n",
    "\n",
    "docs = []\n",
    "for idx, row in df.iterrows():\n",
    "    content = row[\"kullanici_soru\"]\n",
    "    metadata = {\"intent\": row[\"intent_basligi\"], \"row_id\": idx}\n",
    "    doc = Document(page_content=content, metadata=metadata)\n",
    "    docs.append(doc)\n",
    "\n",
    "print(\"Toplam belge:\", len(docs))"
   ]
  },
  {
   "cell_type": "markdown",
   "id": "3c2a0718",
   "metadata": {},
   "source": [
    "Veriyi Test ve Eğitim Verisi Olarak Bölme"
   ]
  },
  {
   "cell_type": "code",
   "execution_count": 3,
   "id": "4bc3e40f",
   "metadata": {},
   "outputs": [
    {
     "name": "stdout",
     "output_type": "stream",
     "text": [
      "Eğitim verisi uzunluğu: 800\n",
      "Test verisi uzunluğu: 200\n"
     ]
    }
   ],
   "source": [
    "from sklearn.model_selection import train_test_split\n",
    "\n",
    "# Rastgele eğitim ve test verisi olarak bölme\n",
    "train_docs, test_docs = train_test_split(docs, test_size=0.2, random_state=42)\n",
    "\n",
    "# Eğitim ve test veri setlerinin uzunluğunu kontrol etme\n",
    "print(\"Eğitim verisi uzunluğu:\", len(train_docs))\n",
    "print(\"Test verisi uzunluğu:\", len(test_docs))"
   ]
  },
  {
   "cell_type": "code",
   "execution_count": 32,
   "id": "a979a9de",
   "metadata": {},
   "outputs": [
    {
     "data": {
      "text/plain": [
       "Document(metadata={'intent': 'restoran_kafe', 'row_id': 2}, page_content='Deniz ürünleriyle ünlü restoranlar nerede bulunur?')"
      ]
     },
     "execution_count": 32,
     "metadata": {},
     "output_type": "execute_result"
    }
   ],
   "source": [
    "train_docs[25]"
   ]
  },
  {
   "cell_type": "markdown",
   "id": "af6aafd3",
   "metadata": {},
   "source": [
    "Google Generative AI Embeddings'i kullanarak Embedding Oluşturma İşlemi"
   ]
  },
  {
   "cell_type": "code",
   "execution_count": 33,
   "id": "0ca043b0",
   "metadata": {},
   "outputs": [],
   "source": [
    "from langchain_community.vectorstores import Chroma\n",
    "from langchain_google_genai import GoogleGenerativeAIEmbeddings\n",
    "from dotenv import load_dotenv"
   ]
  },
  {
   "cell_type": "code",
   "execution_count": 34,
   "id": "9d710230",
   "metadata": {},
   "outputs": [
    {
     "data": {
      "text/plain": [
       "True"
      ]
     },
     "execution_count": 34,
     "metadata": {},
     "output_type": "execute_result"
    }
   ],
   "source": [
    "load_dotenv()"
   ]
  },
  {
   "cell_type": "code",
   "execution_count": 35,
   "id": "1f4ffb71",
   "metadata": {},
   "outputs": [
    {
     "data": {
      "text/plain": [
       "[0.05168594419956207,\n",
       " -0.030764883384108543,\n",
       " -0.03062233328819275,\n",
       " -0.02802734263241291,\n",
       " 0.01813093200325966]"
      ]
     },
     "execution_count": 35,
     "metadata": {},
     "output_type": "execute_result"
    }
   ],
   "source": [
    "embeddings = GoogleGenerativeAIEmbeddings(model=\"models/embedding-001\")\n",
    "vector = embeddings.embed_query(\"hello, world!\")\n",
    "vector[:5]"
   ]
  },
  {
   "cell_type": "markdown",
   "id": "cb19f61a",
   "metadata": {},
   "source": [
    "ChromaDB Üzerine Kayıt İşlemi"
   ]
  },
  {
   "cell_type": "code",
   "execution_count": 36,
   "id": "deac76dc",
   "metadata": {},
   "outputs": [],
   "source": [
    "vectorstore = Chroma.from_documents(documents=train_docs, embedding=embeddings,persist_directory=\"./chroma_db\")"
   ]
  },
  {
   "cell_type": "code",
   "execution_count": 37,
   "id": "6a348ee1",
   "metadata": {},
   "outputs": [],
   "source": [
    "retriever = vectorstore.as_retriever(\n",
    "    search_type=\"similarity\", search_kwargs={\"k\":4}\n",
    ")"
   ]
  },
  {
   "cell_type": "code",
   "execution_count": 38,
   "id": "3b7bba07",
   "metadata": {},
   "outputs": [],
   "source": [
    "retieved_docs = retriever.invoke(\"merhaba\")"
   ]
  },
  {
   "cell_type": "code",
   "execution_count": 39,
   "id": "5d7cb208",
   "metadata": {},
   "outputs": [
    {
     "data": {
      "text/plain": [
       "4"
      ]
     },
     "execution_count": 39,
     "metadata": {},
     "output_type": "execute_result"
    }
   ],
   "source": [
    "len(retieved_docs)"
   ]
  },
  {
   "cell_type": "code",
   "execution_count": 40,
   "id": "0ed7acd7",
   "metadata": {},
   "outputs": [
    {
     "name": "stdout",
     "output_type": "stream",
     "text": [
      "Merhaba, ben hazırım  \n"
     ]
    }
   ],
   "source": [
    "print(retieved_docs[3].page_content)"
   ]
  },
  {
   "cell_type": "markdown",
   "id": "76177d8b",
   "metadata": {},
   "source": [
    "Google Gemini API Yapısını Kullanarak LLM Tetikleme İşlemleri"
   ]
  },
  {
   "cell_type": "code",
   "execution_count": 41,
   "id": "11a1993e",
   "metadata": {},
   "outputs": [],
   "source": [
    "from langchain_google_genai import ChatGoogleGenerativeAI\n",
    "\n",
    "llm = ChatGoogleGenerativeAI(\n",
    "    model=\"gemini-2.0-flash\",\n",
    "    temperature=0.3,\n",
    "    max_tokens=500)"
   ]
  },
  {
   "cell_type": "code",
   "execution_count": 42,
   "id": "bb736038",
   "metadata": {},
   "outputs": [],
   "source": [
    "from langchain_core.prompts import ChatPromptTemplate\n",
    "from langchain.chains.combine_documents import create_stuff_documents_chain\n",
    "from langchain.chains import create_retrieval_chain"
   ]
  },
  {
   "cell_type": "code",
   "execution_count": 43,
   "id": "f1747616",
   "metadata": {},
   "outputs": [],
   "source": [
    "system_prompt = (\n",
    "    \"Sen, turistlere rehberlik eden bir chatbot'sun.\"\n",
    "    \"Aşağıda verilen bağlamlara göre en uygun cevabı ver.\"\n",
    "    \"Yanıtlarını mümkün olduğunca kısa ve net tut, üç cümleyi geçmemeye çalış. \"\n",
    "    \"Eğer cevabı bilmiyorsan 'Bilmiyorum' diye belirt.\"\n",
    "    \"\\n\\n{context}\"\n",
    ")"
   ]
  },
  {
   "cell_type": "code",
   "execution_count": 44,
   "id": "cdf88436",
   "metadata": {},
   "outputs": [],
   "source": [
    "prompt = ChatPromptTemplate.from_messages(\n",
    "    [\n",
    "        (\"system\",system_prompt),\n",
    "        (\"human\",\"{input}\")\n",
    "    ]\n",
    ")"
   ]
  },
  {
   "cell_type": "markdown",
   "id": "b2f88eb4",
   "metadata": {},
   "source": [
    "Soru-Cevap Zinciri Oluşturma(LLM+PROMPT)"
   ]
  },
  {
   "cell_type": "code",
   "execution_count": 45,
   "id": "13a38830",
   "metadata": {},
   "outputs": [],
   "source": [
    "question_answer_chain = create_stuff_documents_chain(llm,prompt)"
   ]
  },
  {
   "cell_type": "markdown",
   "id": "e93d7e63",
   "metadata": {},
   "source": [
    "RAG Zinciri Oluşturma(RAG+LLM Entegrasyonun Gerçekleşmesi)"
   ]
  },
  {
   "cell_type": "code",
   "execution_count": 46,
   "id": "a41ed1ca",
   "metadata": {},
   "outputs": [],
   "source": [
    "rag_chain = create_retrieval_chain(retriever,question_answer_chain)"
   ]
  },
  {
   "cell_type": "markdown",
   "id": "65749927",
   "metadata": {},
   "source": [
    "Kullanıcı Sorgusunu Çaıştırarak Cevap Üretme İşlemi"
   ]
  },
  {
   "cell_type": "code",
   "execution_count": null,
   "id": "cbb68e3e",
   "metadata": {},
   "outputs": [],
   "source": [
    "response = rag_chain.invoke({\"input\":\"Fransa Pariste şehrin merkezine yakın otel önerir misin?\"})"
   ]
  },
  {
   "cell_type": "code",
   "execution_count": 48,
   "id": "a3525f9b",
   "metadata": {},
   "outputs": [
    {
     "name": "stdout",
     "output_type": "stream",
     "text": [
      "{'input': \"Fransa Paris'te şehrin merkezine yakın otel önerir misin?\", 'context': [Document(metadata={'intent': 'konaklama', 'row_id': 311}, page_content='Şehir merkezine yakın otel var mı?'), Document(metadata={'intent': 'konaklama', 'row_id': 311}, page_content='Şehir merkezine yakın otel var mı?'), Document(metadata={'intent': 'konaklama', 'row_id': 311}, page_content='Şehir merkezine yakın otel var mı?'), Document(metadata={'intent': 'konaklama', 'row_id': 311}, page_content='Şehir merkezine yakın otel var mı?')], 'answer': \"Evet, Paris'te şehir merkezine yakın birçok otel bulunmaktadır. Örneğin, Louvre Müzesi ve Notre Dame Katedrali gibi turistik yerlere yürüme mesafesinde olan Hotel Saint-André des Arts veya Hotel Saint-Paul Rive Gauche'u düşünebilirsiniz. Bütçenize ve tercihlerinize uygun daha fazla seçenek için online seyahat sitelerine göz atabilirsiniz.\"}\n"
     ]
    }
   ],
   "source": [
    "print(response)"
   ]
  },
  {
   "cell_type": "markdown",
   "id": "6040071b",
   "metadata": {},
   "source": [
    "PERFORMANS METRİKLERİ"
   ]
  },
  {
   "cell_type": "code",
   "execution_count": 50,
   "id": "3a9b4a33",
   "metadata": {},
   "outputs": [
    {
     "name": "stdout",
     "output_type": "stream",
     "text": [
      "10 soru işlendi\n",
      "20 soru işlendi\n",
      "30 soru işlendi\n",
      "40 soru işlendi\n",
      "50 soru işlendi\n",
      "60 soru işlendi\n",
      "70 soru işlendi\n",
      "80 soru işlendi\n",
      "90 soru işlendi\n",
      "100 soru işlendi\n",
      "110 soru işlendi\n",
      "120 soru işlendi\n",
      "130 soru işlendi\n",
      "140 soru işlendi\n",
      "150 soru işlendi\n",
      "160 soru işlendi\n",
      "170 soru işlendi\n",
      "180 soru işlendi\n",
      "190 soru işlendi\n",
      "200 soru işlendi\n",
      "Doğruluk (Accuracy): 0.65\n",
      "                  precision    recall  f1-score   support\n",
      "\n",
      "     acil_yardim       0.53      0.62      0.57        13\n",
      "   doviz_bilgisi       0.70      0.56      0.62        25\n",
      "     etkinlikler       0.48      0.73      0.58        15\n",
      "gezilecek_yerler       0.69      0.41      0.51        27\n",
      "     hava_durumu       0.68      0.68      0.68        22\n",
      "       konaklama       0.86      0.86      0.86        21\n",
      "   restoran_kafe       0.89      0.40      0.55        20\n",
      "      selamlasma       1.00      0.73      0.84        11\n",
      "          ulasim       0.37      1.00      0.54        13\n",
      "       vedalasma       1.00      0.70      0.82        10\n",
      "vize_ve_belgeler       0.71      0.74      0.72        23\n",
      "\n",
      "        accuracy                           0.65       200\n",
      "       macro avg       0.72      0.67      0.66       200\n",
      "    weighted avg       0.72      0.65      0.65       200\n",
      "\n"
     ]
    }
   ],
   "source": [
    "import time\n",
    "from collections import Counter\n",
    "from sklearn.metrics import classification_report, accuracy_score\n",
    "\n",
    "def extract_predicted_intent(chatbot_response):\n",
    "    intents = [doc.metadata['intent'] for doc in chatbot_response['context']]\n",
    "    most_common_intent, _ = Counter(intents).most_common(1)[0]\n",
    "    return most_common_intent\n",
    "\n",
    "y_true = []\n",
    "y_pred = []\n",
    "\n",
    "for idx, doc in enumerate(test_docs):\n",
    "    question = doc.page_content\n",
    "    true_intent = doc.metadata['intent']\n",
    "    \n",
    "    chatbot_response = rag_chain.invoke({\"input\": question})\n",
    "    predicted_intent = extract_predicted_intent(chatbot_response)\n",
    "    \n",
    "    y_true.append(true_intent)\n",
    "    y_pred.append(predicted_intent)\n",
    "    \n",
    "    # Her çağrıdan sonra 5 saniye bekle\n",
    "    time.sleep(5)\n",
    "\n",
    "\n",
    "    if (idx + 1) % 10 == 0:\n",
    "        print(f\"{idx + 1} soru işlendi\")\n",
    "\n",
    "print(\"Doğruluk (Accuracy):\", accuracy_score(y_true, y_pred))\n",
    "print(classification_report(y_true, y_pred))"
   ]
  },
  {
   "cell_type": "code",
   "execution_count": 51,
   "id": "01c8bdfd",
   "metadata": {},
   "outputs": [
    {
     "name": "stdout",
     "output_type": "stream",
     "text": [
      "                  precision    recall  f1-score   support\n",
      "\n",
      "     acil_yardim       0.53      0.62      0.57        13\n",
      "   doviz_bilgisi       0.70      0.56      0.62        25\n",
      "     etkinlikler       0.48      0.73      0.58        15\n",
      "gezilecek_yerler       0.69      0.41      0.51        27\n",
      "     hava_durumu       0.68      0.68      0.68        22\n",
      "       konaklama       0.86      0.86      0.86        21\n",
      "   restoran_kafe       0.89      0.40      0.55        20\n",
      "      selamlasma       1.00      0.73      0.84        11\n",
      "          ulasim       0.37      1.00      0.54        13\n",
      "       vedalasma       1.00      0.70      0.82        10\n",
      "vize_ve_belgeler       0.71      0.74      0.72        23\n",
      "\n",
      "        accuracy                           0.65       200\n",
      "       macro avg       0.72      0.67      0.66       200\n",
      "    weighted avg       0.72      0.65      0.65       200\n",
      "\n",
      "Doğruluk (Accuracy): 0.65\n",
      "Kesinlik (Precision): 0.7153388112491373\n",
      "Duyarlılık (Recall): 0.65\n",
      "F1 Skoru (F1-Score): 0.6534759515441327\n"
     ]
    }
   ],
   "source": [
    "from sklearn.metrics import accuracy_score, precision_score, recall_score, f1_score, classification_report\n",
    "report = classification_report(y_true, y_pred, zero_division=0) \n",
    "\n",
    "print(report)  \n",
    "\n",
    "\n",
    "print(\"Doğruluk (Accuracy):\", accuracy_score(y_true, y_pred))\n",
    "print(\"Kesinlik (Precision):\", precision_score(y_true, y_pred, average='weighted', zero_division=0))\n",
    "print(\"Duyarlılık (Recall):\", recall_score(y_true, y_pred, average='weighted', zero_division=0))\n",
    "print(\"F1 Skoru (F1-Score):\", f1_score(y_true, y_pred, average='weighted', zero_division=0))\n"
   ]
  },
  {
   "cell_type": "code",
   "execution_count": null,
   "id": "5d7fe7c4",
   "metadata": {},
   "outputs": [
    {
     "data": {
      "image/png": "[encoded data removed]",
      "text/plain": [
       "<Figure size 640x480 with 2 Axes>"
      ]
     },
     "metadata": {},
     "output_type": "display_data"
    }
   ],
   "source": [
    "from sklearn.metrics import confusion_matrix\n",
    "import seaborn as sns\n",
    "import matplotlib.pyplot as plt\n",
    "\n",
    "cm = confusion_matrix(y_true, y_pred, labels=sorted(set(y_true)))\n",
    "sns.heatmap(cm, annot=True, fmt='d', xticklabels=sorted(set(y_true)), yticklabels=sorted(set(y_true)))\n",
    "plt.xlabel('Tahmin')\n",
    "plt.ylabel('Gerçek')\n",
    "plt.title('Intent Karışıklık Matrisi')\n",
    "plt.show()"
   ]
  }
 ],
 "metadata": {
  "kernelspec": {
   "display_name": "myenv2",
   "language": "python",
   "name": "python3"
  },
  "language_info": {
   "codemirror_mode": {
    "name": "ipython",
    "version": 3
   },
   "file_extension": ".py",
   "mimetype": "text/x-python",
   "name": "python",
   "nbconvert_exporter": "python",
   "pygments_lexer": "ipython3",
   "version": "3.9.21"
  }
 },
 "nbformat": 4,
 "nbformat_minor": 5
}
